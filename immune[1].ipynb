{
 "cells": [
  {
   "cell_type": "code",
   "execution_count": 1,
   "id": "2794e309-c18c-49cb-bd2a-bd04efac4218",
   "metadata": {},
   "outputs": [
    {
     "name": "stdout",
     "output_type": "stream",
     "text": [
      "              precision    recall  f1-score   support\n",
      "\n",
      "     Healthy       0.78      0.89      0.83        28\n",
      "     Damaged       0.89      0.78      0.83        32\n",
      "\n",
      "    accuracy                           0.83        60\n",
      "   macro avg       0.84      0.84      0.83        60\n",
      "weighted avg       0.84      0.83      0.83        60\n",
      "\n"
     ]
    }
   ],
   "source": [
    "import numpy as np\n",
    "from sklearn.model_selection import train_test_split\n",
    "from sklearn.metrics import classification_report\n",
    "\n",
    "# Step 1: Simulate Sensor Data\n",
    "def generate_data(n_samples=100):\n",
    "    # Healthy: Random normal values\n",
    "    healthy = np.random.normal(loc=0, scale=1, size=(n_samples, 5))\n",
    "    # Damaged: Shifted values\n",
    "    damaged = np.random.normal(loc=3, scale=1, size=(n_samples, 5))\n",
    "    X = np.vstack((healthy, damaged))\n",
    "    y = np.array([0]*n_samples + [1]*n_samples)  # 0 = Healthy, 1 = Damaged\n",
    "    return X, y\n",
    "\n",
    "# Step 2: Negative Selection Algorithm (NSA) Classifier\n",
    "class NSAClassifier:\n",
    "    def __init__(self, n_detectors=100, threshold=1.5):\n",
    "        self.n_detectors = n_detectors\n",
    "        self.threshold = threshold\n",
    "        self.detectors = []\n",
    "\n",
    "    def _distance(self, x, y):\n",
    "        return np.linalg.norm(x - y)\n",
    "\n",
    "    def fit(self, X_self):\n",
    "        # Generate random detectors and discard those too similar to 'self' (healthy)\n",
    "        self.detectors = []\n",
    "        while len(self.detectors) < self.n_detectors:\n",
    "            detector = np.random.uniform(low=-2, high=5, size=X_self.shape[1])\n",
    "            if all(self._distance(detector, s) > self.threshold for s in X_self):\n",
    "                self.detectors.append(detector)\n",
    "        self.detectors = np.array(self.detectors)\n",
    "\n",
    "    def predict(self, X):\n",
    "        preds = []\n",
    "        for sample in X:\n",
    "            match = any(self._distance(sample, d) < self.threshold for d in self.detectors)\n",
    "            preds.append(1 if match else 0)  # 1 = Detected as 'non-self' (damaged)\n",
    "        return np.array(preds)\n",
    "\n",
    "# Step 3: Run the Classifier\n",
    "X, y = generate_data()\n",
    "X_train, X_test, y_train, y_test = train_test_split(X, y, test_size=0.3)\n",
    "\n",
    "# Train NSA only on healthy samples\n",
    "X_self = X_train[y_train == 0]\n",
    "clf = NSAClassifier(n_detectors=200, threshold=2.0)\n",
    "clf.fit(X_self)\n",
    "\n",
    "# Predict\n",
    "y_pred = clf.predict(X_test)\n",
    "print(classification_report(y_test, y_pred, target_names=[\"Healthy\", \"Damaged\"]))\n"
   ]
  },
  {
   "cell_type": "code",
   "execution_count": null,
   "id": "c0159cdd-d79a-422d-8ad3-028497651154",
   "metadata": {},
   "outputs": [],
   "source": []
  }
 ],
 "metadata": {
  "kernelspec": {
   "display_name": "Python 3 (ipykernel)",
   "language": "python",
   "name": "python3"
  },
  "language_info": {
   "codemirror_mode": {
    "name": "ipython",
    "version": 3
   },
   "file_extension": ".py",
   "mimetype": "text/x-python",
   "name": "python",
   "nbconvert_exporter": "python",
   "pygments_lexer": "ipython3",
   "version": "3.12.2"
  }
 },
 "nbformat": 4,
 "nbformat_minor": 5
}
